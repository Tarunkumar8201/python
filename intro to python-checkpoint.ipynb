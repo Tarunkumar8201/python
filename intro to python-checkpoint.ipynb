{
 "cells": [
  {
   "cell_type": "code",
   "execution_count": 1,
   "id": "21de716b",
   "metadata": {},
   "outputs": [
    {
     "name": "stdout",
     "output_type": "stream",
     "text": [
      "welcome to python\n"
     ]
    }
   ],
   "source": [
    "print('welcome to python')"
   ]
  },
  {
   "cell_type": "code",
   "execution_count": 2,
   "id": "e48bb154",
   "metadata": {},
   "outputs": [
    {
     "ename": "NameError",
     "evalue": "name 'Print' is not defined",
     "output_type": "error",
     "traceback": [
      "\u001b[1;31m---------------------------------------------------------------------------\u001b[0m",
      "\u001b[1;31mNameError\u001b[0m                                 Traceback (most recent call last)",
      "Input \u001b[1;32mIn [2]\u001b[0m, in \u001b[0;36m<cell line: 1>\u001b[1;34m()\u001b[0m\n\u001b[1;32m----> 1\u001b[0m \u001b[43mPrint\u001b[49m(\u001b[38;5;124m'\u001b[39m\u001b[38;5;124mwelcome to python\u001b[39m\u001b[38;5;124m'\u001b[39m)\n",
      "\u001b[1;31mNameError\u001b[0m: name 'Print' is not defined"
     ]
    }
   ],
   "source": [
    "Print('welcome to python')"
   ]
  },
  {
   "cell_type": "markdown",
   "id": "c724a386",
   "metadata": {},
   "source": [
    "# above program tells us pyton is case sensitive"
   ]
  },
  {
   "cell_type": "code",
   "execution_count": 4,
   "id": "e3a2f7ce",
   "metadata": {},
   "outputs": [
    {
     "name": "stdout",
     "output_type": "stream",
     "text": [
      "10\n"
     ]
    }
   ],
   "source": [
    "print(10)"
   ]
  },
  {
   "cell_type": "code",
   "execution_count": 5,
   "id": "fee09e63",
   "metadata": {
    "scrolled": true
   },
   "outputs": [
    {
     "ename": "NameError",
     "evalue": "name 'tarun' is not defined",
     "output_type": "error",
     "traceback": [
      "\u001b[1;31m---------------------------------------------------------------------------\u001b[0m",
      "\u001b[1;31mNameError\u001b[0m                                 Traceback (most recent call last)",
      "Input \u001b[1;32mIn [5]\u001b[0m, in \u001b[0;36m<cell line: 1>\u001b[1;34m()\u001b[0m\n\u001b[1;32m----> 1\u001b[0m \u001b[38;5;28mprint\u001b[39m(\u001b[43mtarun\u001b[49m)\n",
      "\u001b[1;31mNameError\u001b[0m: name 'tarun' is not defined"
     ]
    }
   ],
   "source": [
    "print(tarun)"
   ]
  },
  {
   "cell_type": "markdown",
   "id": "0001d68f",
   "metadata": {},
   "source": [
    "# In python string (text) should be placed in inveted commas"
   ]
  },
  {
   "cell_type": "code",
   "execution_count": 6,
   "id": "fb6aef09",
   "metadata": {},
   "outputs": [
    {
     "name": "stdout",
     "output_type": "stream",
     "text": [
      "tarun\n"
     ]
    }
   ],
   "source": [
    "print('tarun')"
   ]
  },
  {
   "cell_type": "markdown",
   "id": "94cd513f",
   "metadata": {},
   "source": [
    "# string (text should be in inverted commas)"
   ]
  },
  {
   "cell_type": "raw",
   "id": "9c8910e8",
   "metadata": {},
   "source": [
    "Run-> shift+enter\n",
    "add cell above-> a\n",
    "add cell belove-> b\n",
    "delete a cell-> x"
   ]
  },
  {
   "cell_type": "code",
   "execution_count": 7,
   "id": "33fb9655",
   "metadata": {},
   "outputs": [],
   "source": [
    "x=10\n",
    "y=10.5\n",
    "name='tarun'"
   ]
  },
  {
   "cell_type": "code",
   "execution_count": 8,
   "id": "b04615a0",
   "metadata": {},
   "outputs": [
    {
     "data": {
      "text/plain": [
       "int"
      ]
     },
     "execution_count": 8,
     "metadata": {},
     "output_type": "execute_result"
    }
   ],
   "source": [
    "type(x)"
   ]
  },
  {
   "cell_type": "code",
   "execution_count": 9,
   "id": "e3347ca5",
   "metadata": {},
   "outputs": [
    {
     "data": {
      "text/plain": [
       "float"
      ]
     },
     "execution_count": 9,
     "metadata": {},
     "output_type": "execute_result"
    }
   ],
   "source": [
    "type(y)"
   ]
  },
  {
   "cell_type": "code",
   "execution_count": 10,
   "id": "fdb144a5",
   "metadata": {},
   "outputs": [
    {
     "data": {
      "text/plain": [
       "str"
      ]
     },
     "execution_count": 10,
     "metadata": {},
     "output_type": "execute_result"
    }
   ],
   "source": [
    "type(name)"
   ]
  },
  {
   "cell_type": "markdown",
   "id": "96601e4b",
   "metadata": {},
   "source": [
    "# variables"
   ]
  },
  {
   "cell_type": "code",
   "execution_count": 11,
   "id": "1c37a350",
   "metadata": {},
   "outputs": [
    {
     "data": {
      "text/plain": [
       "('tarun', 'nag', 'gopi')"
      ]
     },
     "execution_count": 11,
     "metadata": {},
     "output_type": "execute_result"
    }
   ],
   "source": [
    "names='tarun','nag','gopi'\n",
    "names"
   ]
  },
  {
   "cell_type": "markdown",
   "id": "1bf566ce",
   "metadata": {},
   "source": [
    "# space not allowed \n",
    "# no operator symboll in between a variable name\n",
    "# variable name should not start with a number\n",
    "# it should start with A-Z or a-z or underscore(_)"
   ]
  },
  {
   "cell_type": "code",
   "execution_count": null,
   "id": "bc8038ef",
   "metadata": {},
   "outputs": [],
   "source": []
  },
  {
   "cell_type": "markdown",
   "id": "67d31693",
   "metadata": {},
   "source": [
    "# List-> elements are seperated by commas and enclosed with square brackets[]\n",
    "# heterogenous in nature\n",
    "# can be retrived using index\n",
    "# mutable"
   ]
  },
  {
   "cell_type": "code",
   "execution_count": 12,
   "id": "6ba25576",
   "metadata": {},
   "outputs": [],
   "source": [
    "list=[1,2,3,'hi',True,112.4]"
   ]
  },
  {
   "cell_type": "code",
   "execution_count": 13,
   "id": "48f97677",
   "metadata": {},
   "outputs": [
    {
     "data": {
      "text/plain": [
       "[1, 2, 3, 'hi', True, 112.4]"
      ]
     },
     "execution_count": 13,
     "metadata": {},
     "output_type": "execute_result"
    }
   ],
   "source": [
    "list  # printing the list"
   ]
  },
  {
   "cell_type": "code",
   "execution_count": 14,
   "id": "646ccc81",
   "metadata": {},
   "outputs": [
    {
     "data": {
      "text/plain": [
       "2"
      ]
     },
     "execution_count": 14,
     "metadata": {},
     "output_type": "execute_result"
    }
   ],
   "source": [
    "list[1]      # indexing second element in the list "
   ]
  },
  {
   "cell_type": "code",
   "execution_count": 15,
   "id": "a5daf30a",
   "metadata": {},
   "outputs": [],
   "source": [
    "list[1]=4   # changing the list value for inex [1]"
   ]
  },
  {
   "cell_type": "code",
   "execution_count": 16,
   "id": "3be00d6a",
   "metadata": {},
   "outputs": [
    {
     "data": {
      "text/plain": [
       "[1, 4, 3, 'hi', True, 112.4]"
      ]
     },
     "execution_count": 16,
     "metadata": {},
     "output_type": "execute_result"
    }
   ],
   "source": [
    "list       # printing updated list"
   ]
  },
  {
   "cell_type": "code",
   "execution_count": null,
   "id": "3ba3b510",
   "metadata": {},
   "outputs": [],
   "source": []
  },
  {
   "cell_type": "markdown",
   "id": "5edf2602",
   "metadata": {},
   "source": [
    "# Tuple->\n",
    "# heterogenous\n",
    "# parenthesis\n",
    "# can retrive using index\n",
    "# immutable"
   ]
  },
  {
   "cell_type": "code",
   "execution_count": 17,
   "id": "28328934",
   "metadata": {},
   "outputs": [],
   "source": [
    "tuple=(1,3,5,'hi',True,23.4)  # creating a tuple"
   ]
  },
  {
   "cell_type": "code",
   "execution_count": 18,
   "id": "63027b5d",
   "metadata": {},
   "outputs": [
    {
     "data": {
      "text/plain": [
       "(1, 3, 5, 'hi', True, 23.4)"
      ]
     },
     "execution_count": 18,
     "metadata": {},
     "output_type": "execute_result"
    }
   ],
   "source": [
    "tuple   #prinitng a tuple"
   ]
  },
  {
   "cell_type": "code",
   "execution_count": 19,
   "id": "370a9945",
   "metadata": {},
   "outputs": [
    {
     "data": {
      "text/plain": [
       "5"
      ]
     },
     "execution_count": 19,
     "metadata": {},
     "output_type": "execute_result"
    }
   ],
   "source": [
    "tuple[2]   # indexing third element in tuple"
   ]
  },
  {
   "cell_type": "code",
   "execution_count": 20,
   "id": "a6df9432",
   "metadata": {},
   "outputs": [
    {
     "ename": "TypeError",
     "evalue": "'tuple' object does not support item assignment",
     "output_type": "error",
     "traceback": [
      "\u001b[1;31m---------------------------------------------------------------------------\u001b[0m",
      "\u001b[1;31mTypeError\u001b[0m                                 Traceback (most recent call last)",
      "Input \u001b[1;32mIn [20]\u001b[0m, in \u001b[0;36m<cell line: 1>\u001b[1;34m()\u001b[0m\n\u001b[1;32m----> 1\u001b[0m \u001b[38;5;28mtuple\u001b[39m[\u001b[38;5;241m2\u001b[39m]\u001b[38;5;241m=\u001b[39m\u001b[38;5;241m20\u001b[39m\n",
      "\u001b[1;31mTypeError\u001b[0m: 'tuple' object does not support item assignment"
     ]
    }
   ],
   "source": [
    "tuple[2]=20"
   ]
  },
  {
   "cell_type": "raw",
   "id": "74dab80d",
   "metadata": {},
   "source": [
    "as we can see above we can not change the value of a tuple as tuple is immutable "
   ]
  },
  {
   "cell_type": "code",
   "execution_count": null,
   "id": "e2c883de",
   "metadata": {},
   "outputs": [],
   "source": [
    "\n"
   ]
  },
  {
   "cell_type": "markdown",
   "id": "e5982496",
   "metadata": {},
   "source": [
    "# set"
   ]
  },
  {
   "cell_type": "markdown",
   "id": "498205c5",
   "metadata": {},
   "source": [
    "# does not contains duplicates \n",
    "# Ordered-first place\n",
    "# set elements cannot be retrived using a index\n",
    "# set is mutable"
   ]
  },
  {
   "cell_type": "code",
   "execution_count": 21,
   "id": "f501e992",
   "metadata": {},
   "outputs": [],
   "source": [
    "set={1,23,43.3,'hi',True,12,34,1,'apple',34.5}  #creating a set"
   ]
  },
  {
   "cell_type": "code",
   "execution_count": 32,
   "id": "3492b2a4",
   "metadata": {},
   "outputs": [
    {
     "data": {
      "text/plain": [
       "{1, 100, 12, 23, 34, 34.5, 43.3, 'apple'}"
      ]
     },
     "execution_count": 32,
     "metadata": {},
     "output_type": "execute_result"
    }
   ],
   "source": [
    "set  # printing a set"
   ]
  },
  {
   "cell_type": "code",
   "execution_count": 33,
   "id": "0e27db6b",
   "metadata": {},
   "outputs": [
    {
     "ename": "TypeError",
     "evalue": "'set' object is not subscriptable",
     "output_type": "error",
     "traceback": [
      "\u001b[1;31m---------------------------------------------------------------------------\u001b[0m",
      "\u001b[1;31mTypeError\u001b[0m                                 Traceback (most recent call last)",
      "Input \u001b[1;32mIn [33]\u001b[0m, in \u001b[0;36m<cell line: 1>\u001b[1;34m()\u001b[0m\n\u001b[1;32m----> 1\u001b[0m \u001b[38;5;28;43mset\u001b[39;49m\u001b[43m[\u001b[49m\u001b[38;5;241;43m1\u001b[39;49m\u001b[43m]\u001b[49m\n",
      "\u001b[1;31mTypeError\u001b[0m: 'set' object is not subscriptable"
     ]
    }
   ],
   "source": [
    "set[1]"
   ]
  },
  {
   "cell_type": "code",
   "execution_count": 34,
   "id": "eba50bf4",
   "metadata": {},
   "outputs": [
    {
     "ename": "TypeError",
     "evalue": "'set' object does not support item assignment",
     "output_type": "error",
     "traceback": [
      "\u001b[1;31m---------------------------------------------------------------------------\u001b[0m",
      "\u001b[1;31mTypeError\u001b[0m                                 Traceback (most recent call last)",
      "Input \u001b[1;32mIn [34]\u001b[0m, in \u001b[0;36m<cell line: 1>\u001b[1;34m()\u001b[0m\n\u001b[1;32m----> 1\u001b[0m \u001b[38;5;28mset\u001b[39m[\u001b[38;5;241m1\u001b[39m]\u001b[38;5;241m=\u001b[39m\u001b[38;5;124m'\u001b[39m\u001b[38;5;124mhello\u001b[39m\u001b[38;5;124m'\u001b[39m\n",
      "\u001b[1;31mTypeError\u001b[0m: 'set' object does not support item assignment"
     ]
    }
   ],
   "source": [
    "set[1]='hello'"
   ]
  },
  {
   "cell_type": "code",
   "execution_count": 35,
   "id": "504ffe31",
   "metadata": {},
   "outputs": [],
   "source": [
    "set.add(100)  #adding a new value intos set"
   ]
  },
  {
   "cell_type": "code",
   "execution_count": 37,
   "id": "ba5dddf7",
   "metadata": {},
   "outputs": [],
   "source": [
    "set.remove(23) "
   ]
  },
  {
   "cell_type": "code",
   "execution_count": 38,
   "id": "624455dc",
   "metadata": {},
   "outputs": [
    {
     "data": {
      "text/plain": [
       "{1, 100, 12, 34, 34.5, 43.3, 'apple'}"
      ]
     },
     "execution_count": 38,
     "metadata": {},
     "output_type": "execute_result"
    }
   ],
   "source": [
    "set   #printing updated set"
   ]
  },
  {
   "cell_type": "code",
   "execution_count": null,
   "id": "03627e59",
   "metadata": {},
   "outputs": [],
   "source": []
  },
  {
   "cell_type": "markdown",
   "id": "480a8cf8",
   "metadata": {},
   "source": [
    "# dictionary "
   ]
  },
  {
   "cell_type": "markdown",
   "id": "cda6d278",
   "metadata": {},
   "source": [
    "# has key value pair data structure\n",
    "# key is unique\n",
    "# values can be duplicated\n",
    "# values can be retrived using a key\n",
    "# key cannot be retrived using a index"
   ]
  },
  {
   "cell_type": "code",
   "execution_count": 49,
   "id": "856bd3ee",
   "metadata": {},
   "outputs": [],
   "source": [
    "dict={1:'hi',2:143,4:222.2,2:'hello',5:'22.5',6:22.5}"
   ]
  },
  {
   "cell_type": "code",
   "execution_count": 50,
   "id": "ce20113c",
   "metadata": {},
   "outputs": [
    {
     "data": {
      "text/plain": [
       "{1: 'hi', 2: 'hello', 4: 222.2, 5: '22.5', 6: 22.5}"
      ]
     },
     "execution_count": 50,
     "metadata": {},
     "output_type": "execute_result"
    }
   ],
   "source": [
    "dict"
   ]
  },
  {
   "cell_type": "code",
   "execution_count": 51,
   "id": "73719cc2",
   "metadata": {},
   "outputs": [
    {
     "data": {
      "text/plain": [
       "'hi'"
      ]
     },
     "execution_count": 51,
     "metadata": {},
     "output_type": "execute_result"
    }
   ],
   "source": [
    "dict  [1]"
   ]
  },
  {
   "cell_type": "code",
   "execution_count": 52,
   "id": "7822d64f",
   "metadata": {},
   "outputs": [
    {
     "ename": "KeyError",
     "evalue": "'hi'",
     "output_type": "error",
     "traceback": [
      "\u001b[1;31m---------------------------------------------------------------------------\u001b[0m",
      "\u001b[1;31mKeyError\u001b[0m                                  Traceback (most recent call last)",
      "Input \u001b[1;32mIn [52]\u001b[0m, in \u001b[0;36m<cell line: 1>\u001b[1;34m()\u001b[0m\n\u001b[1;32m----> 1\u001b[0m \u001b[38;5;28;43mdict\u001b[39;49m\u001b[43m[\u001b[49m\u001b[38;5;124;43m'\u001b[39;49m\u001b[38;5;124;43mhi\u001b[39;49m\u001b[38;5;124;43m'\u001b[39;49m\u001b[43m]\u001b[49m\n",
      "\u001b[1;31mKeyError\u001b[0m: 'hi'"
     ]
    }
   ],
   "source": [
    "dict['hi']"
   ]
  },
  {
   "cell_type": "code",
   "execution_count": 53,
   "id": "94aafd58",
   "metadata": {},
   "outputs": [],
   "source": [
    "dict[6]=100"
   ]
  },
  {
   "cell_type": "code",
   "execution_count": 54,
   "id": "363531ae",
   "metadata": {},
   "outputs": [
    {
     "data": {
      "text/plain": [
       "{1: 'hi', 2: 'hello', 4: 222.2, 5: '22.5', 6: 100}"
      ]
     },
     "execution_count": 54,
     "metadata": {},
     "output_type": "execute_result"
    }
   ],
   "source": [
    "dict"
   ]
  },
  {
   "cell_type": "code",
   "execution_count": 55,
   "id": "2894aee6",
   "metadata": {},
   "outputs": [],
   "source": [
    "dict[10]='business'"
   ]
  },
  {
   "cell_type": "code",
   "execution_count": 56,
   "id": "194fb8c8",
   "metadata": {},
   "outputs": [
    {
     "data": {
      "text/plain": [
       "{1: 'hi', 2: 'hello', 4: 222.2, 5: '22.5', 6: 100, 10: 'business'}"
      ]
     },
     "execution_count": 56,
     "metadata": {},
     "output_type": "execute_result"
    }
   ],
   "source": [
    "dict"
   ]
  },
  {
   "cell_type": "code",
   "execution_count": null,
   "id": "e57f08b7",
   "metadata": {},
   "outputs": [],
   "source": []
  }
 ],
 "metadata": {
  "kernelspec": {
   "display_name": "Python 3 (ipykernel)",
   "language": "python",
   "name": "python3"
  },
  "language_info": {
   "codemirror_mode": {
    "name": "ipython",
    "version": 3
   },
   "file_extension": ".py",
   "mimetype": "text/x-python",
   "name": "python",
   "nbconvert_exporter": "python",
   "pygments_lexer": "ipython3",
   "version": "3.9.12"
  }
 },
 "nbformat": 4,
 "nbformat_minor": 5
}
