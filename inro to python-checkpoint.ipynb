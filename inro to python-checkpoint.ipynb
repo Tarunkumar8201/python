{
 "cells": [
  {
   "cell_type": "code",
   "execution_count": 1,
   "id": "21de716b",
   "metadata": {},
   "outputs": [
    {
     "name": "stdout",
     "output_type": "stream",
     "text": [
      "welcome to python\n"
     ]
    }
   ],
   "source": [
    "print('welcome to python')"
   ]
  },
  {
   "cell_type": "code",
   "execution_count": 2,
   "id": "e48bb154",
   "metadata": {},
   "outputs": [
    {
     "ename": "NameError",
     "evalue": "name 'Print' is not defined",
     "output_type": "error",
     "traceback": [
      "\u001b[1;31m---------------------------------------------------------------------------\u001b[0m",
      "\u001b[1;31mNameError\u001b[0m                                 Traceback (most recent call last)",
      "Input \u001b[1;32mIn [2]\u001b[0m, in \u001b[0;36m<cell line: 1>\u001b[1;34m()\u001b[0m\n\u001b[1;32m----> 1\u001b[0m \u001b[43mPrint\u001b[49m(\u001b[38;5;124m'\u001b[39m\u001b[38;5;124mwelcome to python\u001b[39m\u001b[38;5;124m'\u001b[39m)\n",
      "\u001b[1;31mNameError\u001b[0m: name 'Print' is not defined"
     ]
    }
   ],
   "source": [
    "Print('welcome to python')"
   ]
  },
  {
   "cell_type": "markdown",
   "id": "c724a386",
   "metadata": {},
   "source": [
    "# above program tells us pyton is case sensitive"
   ]
  },
  {
   "cell_type": "code",
   "execution_count": 8,
   "id": "e3a2f7ce",
   "metadata": {},
   "outputs": [
    {
     "name": "stdout",
     "output_type": "stream",
     "text": [
      "10\n"
     ]
    }
   ],
   "source": [
    "print(10)"
   ]
  },
  {
   "cell_type": "code",
   "execution_count": 9,
   "id": "fee09e63",
   "metadata": {
    "scrolled": true
   },
   "outputs": [
    {
     "ename": "NameError",
     "evalue": "name 'tarun' is not defined",
     "output_type": "error",
     "traceback": [
      "\u001b[1;31m---------------------------------------------------------------------------\u001b[0m",
      "\u001b[1;31mNameError\u001b[0m                                 Traceback (most recent call last)",
      "Input \u001b[1;32mIn [9]\u001b[0m, in \u001b[0;36m<cell line: 1>\u001b[1;34m()\u001b[0m\n\u001b[1;32m----> 1\u001b[0m \u001b[38;5;28mprint\u001b[39m(\u001b[43mtarun\u001b[49m)\n",
      "\u001b[1;31mNameError\u001b[0m: name 'tarun' is not defined"
     ]
    }
   ],
   "source": [
    "print(tarun)"
   ]
  },
  {
   "cell_type": "markdown",
   "id": "0001d68f",
   "metadata": {},
   "source": [
    "# In python string (text) should be placed in inveted commas"
   ]
  },
  {
   "cell_type": "code",
   "execution_count": 6,
   "id": "fb6aef09",
   "metadata": {},
   "outputs": [
    {
     "name": "stdout",
     "output_type": "stream",
     "text": [
      "tarun\n"
     ]
    }
   ],
   "source": [
    "print('tarun')"
   ]
  },
  {
   "cell_type": "markdown",
   "id": "94cd513f",
   "metadata": {},
   "source": [
    "# string (text should be in inverted commas)"
   ]
  },
  {
   "cell_type": "raw",
   "id": "9c8910e8",
   "metadata": {},
   "source": [
    "Run-> shift+enter\n",
    "add cell above-> a\n",
    "add cell belove-> b\n",
    "delete a cell-> x"
   ]
  },
  {
   "cell_type": "code",
   "execution_count": 10,
   "id": "33fb9655",
   "metadata": {},
   "outputs": [],
   "source": [
    "x=10\n",
    "y=10.5\n",
    "name='tarun'"
   ]
  },
  {
   "cell_type": "code",
   "execution_count": 14,
   "id": "b04615a0",
   "metadata": {},
   "outputs": [
    {
     "data": {
      "text/plain": [
       "int"
      ]
     },
     "execution_count": 14,
     "metadata": {},
     "output_type": "execute_result"
    }
   ],
   "source": [
    "type(x)"
   ]
  },
  {
   "cell_type": "code",
   "execution_count": 15,
   "id": "e3347ca5",
   "metadata": {},
   "outputs": [
    {
     "data": {
      "text/plain": [
       "float"
      ]
     },
     "execution_count": 15,
     "metadata": {},
     "output_type": "execute_result"
    }
   ],
   "source": [
    "type(y)"
   ]
  },
  {
   "cell_type": "code",
   "execution_count": 16,
   "id": "fdb144a5",
   "metadata": {},
   "outputs": [
    {
     "data": {
      "text/plain": [
       "str"
      ]
     },
     "execution_count": 16,
     "metadata": {},
     "output_type": "execute_result"
    }
   ],
   "source": [
    "type(name)"
   ]
  },
  {
   "cell_type": "markdown",
   "id": "96601e4b",
   "metadata": {},
   "source": [
    "# variables"
   ]
  },
  {
   "cell_type": "code",
   "execution_count": 20,
   "id": "1c37a350",
   "metadata": {},
   "outputs": [
    {
     "data": {
      "text/plain": [
       "('tarun', 'nag', 'gopi')"
      ]
     },
     "execution_count": 20,
     "metadata": {},
     "output_type": "execute_result"
    }
   ],
   "source": [
    "names='tarun','nag','gopi'\n",
    "names"
   ]
  },
  {
   "cell_type": "markdown",
   "id": "1bf566ce",
   "metadata": {},
   "source": [
    "# space not allowed \n",
    "# no operator symboll in between a variable name\n",
    "# variable name should not start with a number\n",
    "# it should start with A-Z or a-z or underscore(_)"
   ]
  },
  {
   "cell_type": "code",
   "execution_count": null,
   "id": "351aa1e9",
   "metadata": {},
   "outputs": [],
   "source": []
  }
 ],
 "metadata": {
  "kernelspec": {
   "display_name": "Python 3 (ipykernel)",
   "language": "python",
   "name": "python3"
  },
  "language_info": {
   "codemirror_mode": {
    "name": "ipython",
    "version": 3
   },
   "file_extension": ".py",
   "mimetype": "text/x-python",
   "name": "python",
   "nbconvert_exporter": "python",
   "pygments_lexer": "ipython3",
   "version": "3.9.12"
  }
 },
 "nbformat": 4,
 "nbformat_minor": 5
}
